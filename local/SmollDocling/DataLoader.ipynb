{
 "cells": [
  {
   "cell_type": "code",
   "execution_count": 1,
   "id": "49a72eea",
   "metadata": {},
   "outputs": [
    {
     "name": "stderr",
     "output_type": "stream",
     "text": [
      "Using TensorFlow backend.\n"
     ]
    },
    {
     "name": "stdout",
     "output_type": "stream",
     "text": [
      "WARNING:tensorflow:From c:\\Python312\\Lib\\site-packages\\tf_keras\\src\\losses.py:2976: The name tf.losses.sparse_softmax_cross_entropy is deprecated. Please use tf.compat.v1.losses.sparse_softmax_cross_entropy instead.\n",
      "\n"
     ]
    }
   ],
   "source": [
    "from datasets import DatasetDict, Dataset\n",
    "from io import BytesIO\n",
    "from PIL import Image\n",
    "from tqdm import tqdm\n",
    "import base64\n",
    "import json\n",
    "import os"
   ]
  },
  {
   "cell_type": "code",
   "execution_count": null,
   "id": "5367cccf",
   "metadata": {},
   "outputs": [],
   "source": [
    "def getImageData(JsonFilePath):\n",
    "    \"\"\"Load image data from a JSON file containing base64 encoded image content.\"\"\"\n",
    "    try:\n",
    "        with open(JsonFilePath, 'r', encoding=\"utf-8\") as file:\n",
    "            data = json.load(file)\n",
    "\n",
    "        base64_image = data[\"pages\"][0][\"image\"][\"content\"]\n",
    "        image_data = base64.b64decode(base64_image)\n",
    "        image = Image.open(BytesIO(image_data)).convert(\"RGB\")\n",
    "        return image\n",
    "\n",
    "    except Exception as e:\n",
    "        print(f\"Error loading image from {JsonFilePath}: {e}\")\n",
    "        return None\n"
   ]
  },
  {
   "cell_type": "code",
   "execution_count": null,
   "id": "ab6c7732",
   "metadata": {},
   "outputs": [
    {
     "name": "stdout",
     "output_type": "stream",
     "text": [
      "Loading Dataset\n"
     ]
    },
    {
     "name": "stderr",
     "output_type": "stream",
     "text": [
      "Loading split: train: 100%|██████████| 366/366 [00:24<00:00, 14.72it/s]\n",
      "Loading split: test: 100%|██████████| 87/87 [00:05<00:00, 14.65it/s]\n",
      "Saving the dataset (5/5 shards): 100%|██████████| 366/366 [00:04<00:00, 85.71 examples/s]\n",
      "Saving the dataset (2/2 shards): 100%|██████████| 87/87 [00:01<00:00, 81.46 examples/s]"
     ]
    },
    {
     "name": "stdout",
     "output_type": "stream",
     "text": [
      "Done.\n"
     ]
    },
    {
     "name": "stderr",
     "output_type": "stream",
     "text": [
      "\n"
     ]
    }
   ],
   "source": [
    "\n",
    "def load_docling_split(split_dir):\n",
    "    \"\"\"Load a split of the Docling dataset from a directory.\"\"\"\n",
    "    data = []\n",
    "    leaf_dirs = [os.path.join(root) for root, _, files in os.walk(split_dir) if len(files) == 2]\n",
    "\n",
    "    for root in tqdm(leaf_dirs, desc=f\"Loading split: {os.path.basename(split_dir)}\"):\n",
    "        image = None\n",
    "        output = None\n",
    "\n",
    "        for fname in os.listdir(root):\n",
    "            fpath = os.path.join(root, fname)\n",
    "\n",
    "            if fname.endswith(\".json\"):\n",
    "                image = getImageData(fpath)\n",
    "\n",
    "            elif fname.endswith(\".txt\"):\n",
    "                with open(fpath, 'r', encoding=\"utf-8\") as f:\n",
    "                    output = f.read()\n",
    "\n",
    "        if image is not None and output is not None:\n",
    "            data.append({\n",
    "                \"image\": image,\n",
    "                \"output\": output\n",
    "            })\n",
    "\n",
    "    return Dataset.from_list(data)\n",
    "\n",
    "print(\"Loading Dataset\")\n",
    "\n",
    "dataset = DatasetDict({\n",
    "    \"train\": load_docling_split(\"./Data/train\"),\n",
    "    \"validation\": load_docling_split(\"./Data/test\"),\n",
    "})\n",
    "\n",
    "dataset.save_to_disk(\"SmolDoclingDataNoLoc\")\n",
    "\n",
    "print(\"Done.\")"
   ]
  }
 ],
 "metadata": {
  "kernelspec": {
   "display_name": "Python 3",
   "language": "python",
   "name": "python3"
  },
  "language_info": {
   "codemirror_mode": {
    "name": "ipython",
    "version": 3
   },
   "file_extension": ".py",
   "mimetype": "text/x-python",
   "name": "python",
   "nbconvert_exporter": "python",
   "pygments_lexer": "ipython3",
   "version": "3.12.6"
  }
 },
 "nbformat": 4,
 "nbformat_minor": 5
}
